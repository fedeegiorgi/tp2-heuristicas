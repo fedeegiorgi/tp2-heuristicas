{
 "cells": [
  {
   "cell_type": "code",
   "execution_count": 11,
   "metadata": {},
   "outputs": [],
   "source": [
    "import pandas as pd\n",
    "import numpy as np\n",
    "import matplotlib.pyplot as plt\n",
    "\n",
    "df = pd.read_csv('output_prueba.csv')\n",
    "df = df.sort_values(by=['type_instance', 'instance', 'm', 'n'])"
   ]
  },
  {
   "cell_type": "code",
   "execution_count": 12,
   "metadata": {},
   "outputs": [
    {
     "name": "stdout",
     "output_type": "stream",
     "text": [
      "  type_instance  ov_mincost_vs_bestfit%  ov_mincost_vs_mt%  ov_mt_vs_bestfit%\n",
      "0             a               -1.153466           0.009954          -1.175759\n",
      "1             b               -0.813656           0.043355          -0.928853\n",
      "2             e                0.514431          -0.018008           0.523833\n"
     ]
    },
    {
     "name": "stderr",
     "output_type": "stream",
     "text": [
      "C:\\Users\\gaston\\AppData\\Local\\Temp\\ipykernel_2504\\1180506503.py:9: FutureWarning: The default value of numeric_only in DataFrameGroupBy.mean is deprecated. In a future version, numeric_only will default to False. Either specify numeric_only or select only columns which should be valid for the function.\n",
      "  df_gc_avg = df_gc.groupby('type_instance').mean().reset_index()\n"
     ]
    }
   ],
   "source": [
    "# gap diferencias\n",
    "df_gc = df.loc[:, ('type_instance','instance','ov_mincost','ov_bestfit','ov_mt')]\n",
    "\n",
    "# relativo a mincost, bestfit mejora si es positivo, empeora si es negativo\n",
    "df_gc['ov_mincost_vs_bestfit%'] = (df_gc['ov_mincost'] - df_gc['ov_bestfit']) / df_gc['ov_mincost']\n",
    "df_gc['ov_mincost_vs_mt%'] = (df_gc['ov_mincost'] - df_gc['ov_mt']) / df_gc['ov_mincost']\n",
    "df_gc['ov_mt_vs_bestfit%'] = (df_gc['ov_mt'] - df_gc['ov_bestfit']) / df_gc['ov_mt']\n",
    "\n",
    "df_gc_avg = df_gc.groupby('type_instance').mean().reset_index()\n",
    "\n",
    "# Tabla comparitiva cambios porcentuales entre Greedy y Batching\n",
    "columns = []\n",
    "comparative_table = df_gc_avg.loc[:,('type_instance','ov_mincost_vs_bestfit%','ov_mincost_vs_mt%','ov_mt_vs_bestfit%')]\n",
    "comparative_table[columns[1:]] = (comparative_table[columns[1:]] * 100).round(2)\n",
    "print(comparative_table)\n",
    "\n",
    "table_c = comparative_table.to_markdown(index=False)\n",
    "with open('comparitivas_constructivas.md', 'w') as file:\n",
    "    file.write(table_c)"
   ]
  },
  {
   "cell_type": "code",
   "execution_count": 14,
   "metadata": {},
   "outputs": [
    {
     "ename": "KeyError",
     "evalue": "\"['mincost_vs_swap%', 'bestfit_vs_swap%', 'mt_vs_swap%', 'mincost_vs_relocate%', 'bestfit_vs_relocate%', 'mt_vs_relocate%'] not in index\"",
     "output_type": "error",
     "traceback": [
      "\u001b[1;31m---------------------------------------------------------------------------\u001b[0m",
      "\u001b[1;31mKeyError\u001b[0m                                  Traceback (most recent call last)",
      "Cell \u001b[1;32mIn[14], line 14\u001b[0m\n\u001b[0;32m     11\u001b[0m df_aux[\u001b[39m'\u001b[39m\u001b[39mmt_vs_relocate\u001b[39m\u001b[39m%\u001b[39m\u001b[39m'\u001b[39m] \u001b[39m=\u001b[39m (df_aux[\u001b[39m'\u001b[39m\u001b[39mov_mt\u001b[39m\u001b[39m'\u001b[39m] \u001b[39m-\u001b[39m df_aux[\u001b[39m'\u001b[39m\u001b[39mov_mt_relocate\u001b[39m\u001b[39m'\u001b[39m]) \u001b[39m/\u001b[39m df_aux[\u001b[39m'\u001b[39m\u001b[39mov_mt\u001b[39m\u001b[39m'\u001b[39m]\n\u001b[0;32m     13\u001b[0m columns \u001b[39m=\u001b[39m []\n\u001b[1;32m---> 14\u001b[0m comparative_table \u001b[39m=\u001b[39m df_src_avg\u001b[39m.\u001b[39;49mloc[:,(\u001b[39m'\u001b[39;49m\u001b[39mtype_instance\u001b[39;49m\u001b[39m'\u001b[39;49m,\u001b[39m'\u001b[39;49m\u001b[39mmincost_vs_swap\u001b[39;49m\u001b[39m%\u001b[39;49m\u001b[39m'\u001b[39;49m,\u001b[39m'\u001b[39;49m\u001b[39mbestfit_vs_swap\u001b[39;49m\u001b[39m%\u001b[39;49m\u001b[39m'\u001b[39;49m,\u001b[39m'\u001b[39;49m\u001b[39mmt_vs_swap\u001b[39;49m\u001b[39m%\u001b[39;49m\u001b[39m'\u001b[39;49m,\u001b[39m'\u001b[39;49m\u001b[39mmincost_vs_relocate\u001b[39;49m\u001b[39m%\u001b[39;49m\u001b[39m'\u001b[39;49m,\u001b[39m'\u001b[39;49m\u001b[39mbestfit_vs_relocate\u001b[39;49m\u001b[39m%\u001b[39;49m\u001b[39m'\u001b[39;49m,\u001b[39m'\u001b[39;49m\u001b[39mmt_vs_relocate\u001b[39;49m\u001b[39m%\u001b[39;49m\u001b[39m'\u001b[39;49m)]\n\u001b[0;32m     15\u001b[0m comparative_table[columns[\u001b[39m1\u001b[39m:]] \u001b[39m=\u001b[39m (comparative_table[columns[\u001b[39m1\u001b[39m:]] \u001b[39m*\u001b[39m \u001b[39m100\u001b[39m)\u001b[39m.\u001b[39mround(\u001b[39m2\u001b[39m)\n\u001b[0;32m     17\u001b[0m table_b \u001b[39m=\u001b[39m comparative_table\u001b[39m.\u001b[39mto_markdown(index\u001b[39m=\u001b[39m\u001b[39mFalse\u001b[39;00m)\n",
      "File \u001b[1;32mc:\\Users\\gaston\\miniconda3\\envs\\metodos\\lib\\site-packages\\pandas\\core\\indexing.py:1067\u001b[0m, in \u001b[0;36m_LocationIndexer.__getitem__\u001b[1;34m(self, key)\u001b[0m\n\u001b[0;32m   1065\u001b[0m     \u001b[39mif\u001b[39;00m \u001b[39mself\u001b[39m\u001b[39m.\u001b[39m_is_scalar_access(key):\n\u001b[0;32m   1066\u001b[0m         \u001b[39mreturn\u001b[39;00m \u001b[39mself\u001b[39m\u001b[39m.\u001b[39mobj\u001b[39m.\u001b[39m_get_value(\u001b[39m*\u001b[39mkey, takeable\u001b[39m=\u001b[39m\u001b[39mself\u001b[39m\u001b[39m.\u001b[39m_takeable)\n\u001b[1;32m-> 1067\u001b[0m     \u001b[39mreturn\u001b[39;00m \u001b[39mself\u001b[39;49m\u001b[39m.\u001b[39;49m_getitem_tuple(key)\n\u001b[0;32m   1068\u001b[0m \u001b[39melse\u001b[39;00m:\n\u001b[0;32m   1069\u001b[0m     \u001b[39m# we by definition only have the 0th axis\u001b[39;00m\n\u001b[0;32m   1070\u001b[0m     axis \u001b[39m=\u001b[39m \u001b[39mself\u001b[39m\u001b[39m.\u001b[39maxis \u001b[39mor\u001b[39;00m \u001b[39m0\u001b[39m\n",
      "File \u001b[1;32mc:\\Users\\gaston\\miniconda3\\envs\\metodos\\lib\\site-packages\\pandas\\core\\indexing.py:1256\u001b[0m, in \u001b[0;36m_LocIndexer._getitem_tuple\u001b[1;34m(self, tup)\u001b[0m\n\u001b[0;32m   1253\u001b[0m \u001b[39mif\u001b[39;00m \u001b[39mself\u001b[39m\u001b[39m.\u001b[39m_multi_take_opportunity(tup):\n\u001b[0;32m   1254\u001b[0m     \u001b[39mreturn\u001b[39;00m \u001b[39mself\u001b[39m\u001b[39m.\u001b[39m_multi_take(tup)\n\u001b[1;32m-> 1256\u001b[0m \u001b[39mreturn\u001b[39;00m \u001b[39mself\u001b[39;49m\u001b[39m.\u001b[39;49m_getitem_tuple_same_dim(tup)\n",
      "File \u001b[1;32mc:\\Users\\gaston\\miniconda3\\envs\\metodos\\lib\\site-packages\\pandas\\core\\indexing.py:924\u001b[0m, in \u001b[0;36m_LocationIndexer._getitem_tuple_same_dim\u001b[1;34m(self, tup)\u001b[0m\n\u001b[0;32m    921\u001b[0m \u001b[39mif\u001b[39;00m com\u001b[39m.\u001b[39mis_null_slice(key):\n\u001b[0;32m    922\u001b[0m     \u001b[39mcontinue\u001b[39;00m\n\u001b[1;32m--> 924\u001b[0m retval \u001b[39m=\u001b[39m \u001b[39mgetattr\u001b[39;49m(retval, \u001b[39mself\u001b[39;49m\u001b[39m.\u001b[39;49mname)\u001b[39m.\u001b[39;49m_getitem_axis(key, axis\u001b[39m=\u001b[39;49mi)\n\u001b[0;32m    925\u001b[0m \u001b[39m# We should never have retval.ndim < self.ndim, as that should\u001b[39;00m\n\u001b[0;32m    926\u001b[0m \u001b[39m#  be handled by the _getitem_lowerdim call above.\u001b[39;00m\n\u001b[0;32m    927\u001b[0m \u001b[39massert\u001b[39;00m retval\u001b[39m.\u001b[39mndim \u001b[39m==\u001b[39m \u001b[39mself\u001b[39m\u001b[39m.\u001b[39mndim\n",
      "File \u001b[1;32mc:\\Users\\gaston\\miniconda3\\envs\\metodos\\lib\\site-packages\\pandas\\core\\indexing.py:1301\u001b[0m, in \u001b[0;36m_LocIndexer._getitem_axis\u001b[1;34m(self, key, axis)\u001b[0m\n\u001b[0;32m   1298\u001b[0m     \u001b[39mif\u001b[39;00m \u001b[39mhasattr\u001b[39m(key, \u001b[39m\"\u001b[39m\u001b[39mndim\u001b[39m\u001b[39m\"\u001b[39m) \u001b[39mand\u001b[39;00m key\u001b[39m.\u001b[39mndim \u001b[39m>\u001b[39m \u001b[39m1\u001b[39m:\n\u001b[0;32m   1299\u001b[0m         \u001b[39mraise\u001b[39;00m \u001b[39mValueError\u001b[39;00m(\u001b[39m\"\u001b[39m\u001b[39mCannot index with multidimensional key\u001b[39m\u001b[39m\"\u001b[39m)\n\u001b[1;32m-> 1301\u001b[0m     \u001b[39mreturn\u001b[39;00m \u001b[39mself\u001b[39;49m\u001b[39m.\u001b[39;49m_getitem_iterable(key, axis\u001b[39m=\u001b[39;49maxis)\n\u001b[0;32m   1303\u001b[0m \u001b[39m# nested tuple slicing\u001b[39;00m\n\u001b[0;32m   1304\u001b[0m \u001b[39mif\u001b[39;00m is_nested_tuple(key, labels):\n",
      "File \u001b[1;32mc:\\Users\\gaston\\miniconda3\\envs\\metodos\\lib\\site-packages\\pandas\\core\\indexing.py:1239\u001b[0m, in \u001b[0;36m_LocIndexer._getitem_iterable\u001b[1;34m(self, key, axis)\u001b[0m\n\u001b[0;32m   1236\u001b[0m \u001b[39mself\u001b[39m\u001b[39m.\u001b[39m_validate_key(key, axis)\n\u001b[0;32m   1238\u001b[0m \u001b[39m# A collection of keys\u001b[39;00m\n\u001b[1;32m-> 1239\u001b[0m keyarr, indexer \u001b[39m=\u001b[39m \u001b[39mself\u001b[39;49m\u001b[39m.\u001b[39;49m_get_listlike_indexer(key, axis)\n\u001b[0;32m   1240\u001b[0m \u001b[39mreturn\u001b[39;00m \u001b[39mself\u001b[39m\u001b[39m.\u001b[39mobj\u001b[39m.\u001b[39m_reindex_with_indexers(\n\u001b[0;32m   1241\u001b[0m     {axis: [keyarr, indexer]}, copy\u001b[39m=\u001b[39m\u001b[39mTrue\u001b[39;00m, allow_dups\u001b[39m=\u001b[39m\u001b[39mTrue\u001b[39;00m\n\u001b[0;32m   1242\u001b[0m )\n",
      "File \u001b[1;32mc:\\Users\\gaston\\miniconda3\\envs\\metodos\\lib\\site-packages\\pandas\\core\\indexing.py:1432\u001b[0m, in \u001b[0;36m_LocIndexer._get_listlike_indexer\u001b[1;34m(self, key, axis)\u001b[0m\n\u001b[0;32m   1429\u001b[0m ax \u001b[39m=\u001b[39m \u001b[39mself\u001b[39m\u001b[39m.\u001b[39mobj\u001b[39m.\u001b[39m_get_axis(axis)\n\u001b[0;32m   1430\u001b[0m axis_name \u001b[39m=\u001b[39m \u001b[39mself\u001b[39m\u001b[39m.\u001b[39mobj\u001b[39m.\u001b[39m_get_axis_name(axis)\n\u001b[1;32m-> 1432\u001b[0m keyarr, indexer \u001b[39m=\u001b[39m ax\u001b[39m.\u001b[39;49m_get_indexer_strict(key, axis_name)\n\u001b[0;32m   1434\u001b[0m \u001b[39mreturn\u001b[39;00m keyarr, indexer\n",
      "File \u001b[1;32mc:\\Users\\gaston\\miniconda3\\envs\\metodos\\lib\\site-packages\\pandas\\core\\indexes\\base.py:6070\u001b[0m, in \u001b[0;36mIndex._get_indexer_strict\u001b[1;34m(self, key, axis_name)\u001b[0m\n\u001b[0;32m   6067\u001b[0m \u001b[39melse\u001b[39;00m:\n\u001b[0;32m   6068\u001b[0m     keyarr, indexer, new_indexer \u001b[39m=\u001b[39m \u001b[39mself\u001b[39m\u001b[39m.\u001b[39m_reindex_non_unique(keyarr)\n\u001b[1;32m-> 6070\u001b[0m \u001b[39mself\u001b[39;49m\u001b[39m.\u001b[39;49m_raise_if_missing(keyarr, indexer, axis_name)\n\u001b[0;32m   6072\u001b[0m keyarr \u001b[39m=\u001b[39m \u001b[39mself\u001b[39m\u001b[39m.\u001b[39mtake(indexer)\n\u001b[0;32m   6073\u001b[0m \u001b[39mif\u001b[39;00m \u001b[39misinstance\u001b[39m(key, Index):\n\u001b[0;32m   6074\u001b[0m     \u001b[39m# GH 42790 - Preserve name from an Index\u001b[39;00m\n",
      "File \u001b[1;32mc:\\Users\\gaston\\miniconda3\\envs\\metodos\\lib\\site-packages\\pandas\\core\\indexes\\base.py:6133\u001b[0m, in \u001b[0;36mIndex._raise_if_missing\u001b[1;34m(self, key, indexer, axis_name)\u001b[0m\n\u001b[0;32m   6130\u001b[0m     \u001b[39mraise\u001b[39;00m \u001b[39mKeyError\u001b[39;00m(\u001b[39mf\u001b[39m\u001b[39m\"\u001b[39m\u001b[39mNone of [\u001b[39m\u001b[39m{\u001b[39;00mkey\u001b[39m}\u001b[39;00m\u001b[39m] are in the [\u001b[39m\u001b[39m{\u001b[39;00maxis_name\u001b[39m}\u001b[39;00m\u001b[39m]\u001b[39m\u001b[39m\"\u001b[39m)\n\u001b[0;32m   6132\u001b[0m not_found \u001b[39m=\u001b[39m \u001b[39mlist\u001b[39m(ensure_index(key)[missing_mask\u001b[39m.\u001b[39mnonzero()[\u001b[39m0\u001b[39m]]\u001b[39m.\u001b[39munique())\n\u001b[1;32m-> 6133\u001b[0m \u001b[39mraise\u001b[39;00m \u001b[39mKeyError\u001b[39;00m(\u001b[39mf\u001b[39m\u001b[39m\"\u001b[39m\u001b[39m{\u001b[39;00mnot_found\u001b[39m}\u001b[39;00m\u001b[39m not in index\u001b[39m\u001b[39m\"\u001b[39m)\n",
      "\u001b[1;31mKeyError\u001b[0m: \"['mincost_vs_swap%', 'bestfit_vs_swap%', 'mt_vs_swap%', 'mincost_vs_relocate%', 'bestfit_vs_relocate%', 'mt_vs_relocate%'] not in index\""
     ]
    }
   ],
   "source": [
    "# swap vs relocate mincost\n",
    "df_aux = df.loc[:,('type_instance','instance','ov_mincost','ov_mincost_swap','ov_mincost_relocate','ov_bestfit','ov_bestfit_swap','ov_bestfit_relocate','ov_mt','ov_mt_swap','ov_mt_relocate')]\n",
    "\n",
    "# relativo a mincost, swap mejora si es positivo, empeora si es negativo\n",
    "df_aux['mincost_vs_swap%'] = (df_aux['ov_mincost'] - df_aux['ov_mincost_swap']) / df_aux['ov_mincost']\n",
    "df_aux['bestfit_vs_swap%'] = (df_aux['ov_bestfit'] - df_aux['ov_bestfit_swap']) / df_aux['ov_bestfit']\n",
    "df_aux['mt_vs_swap%'] = (df_aux['ov_mt'] - df_aux['ov_mt_swap']) / df_aux['ov_mt']\n",
    "# relativo a mincost, relocate mejora si es positivo, empeora si es negativo\n",
    "df_aux['mincost_vs_relocate%'] = (df_aux['ov_mincost'] - df_aux['ov_mincost_relocate']) / df_aux['ov_mincost']\n",
    "df_aux['bestfit_vs_relocate%'] = (df_aux['ov_bestfit'] - df_aux['ov_bestfit_relocate']) / df_aux['ov_bestfit']\n",
    "df_aux['mt_vs_relocate%'] = (df_aux['ov_mt'] - df_aux['ov_mt_relocate']) / df_aux['ov_mt']\n",
    "\n",
    "df_aux_avg = df_aux.groupby('type_instance').mean().reset_index()\n",
    "\n",
    "columns = []\n",
    "comparative_table = df_src_avg.loc[:,('type_instance','mincost_vs_swap%','bestfit_vs_swap%','mt_vs_swap%','mincost_vs_relocate%','bestfit_vs_relocate%','mt_vs_relocate%')]\n",
    "comparative_table[columns[1:]] = (comparative_table[columns[1:]] * 100).round(2)\n",
    "\n",
    "table_b = comparative_table.to_markdown(index=False)\n",
    "with open('swap_vs_relocate.md', 'w') as file:\n",
    "    file.write(table_b)"
   ]
  }
 ],
 "metadata": {
  "kernelspec": {
   "display_name": "Python 3",
   "language": "python",
   "name": "python3"
  },
  "language_info": {
   "codemirror_mode": {
    "name": "ipython",
    "version": 3
   },
   "file_extension": ".py",
   "mimetype": "text/x-python",
   "name": "python",
   "nbconvert_exporter": "python",
   "pygments_lexer": "ipython3",
   "version": "3.10.9"
  },
  "orig_nbformat": 4
 },
 "nbformat": 4,
 "nbformat_minor": 2
}
