{
 "cells": [
  {
   "cell_type": "code",
   "execution_count": 35,
   "metadata": {},
   "outputs": [],
   "source": [
    "import pandas as pd\n",
    "import numpy as np\n",
    "import matplotlib.pyplot as plt\n",
    "\n",
    "df = pd.read_csv('output_gap.csv')\n",
    "df = df.sort_values(by=['type_instance', 'instance', 'm', 'n'])"
   ]
  },
  {
   "cell_type": "code",
   "execution_count": 36,
   "metadata": {},
   "outputs": [
    {
     "name": "stdout",
     "output_type": "stream",
     "text": [
      "  type_instance  ov_mincost_vs_bestfit%  ov_mincost_vs_mt%  ov_mt_vs_bestfit%\n",
      "0             a               -1.153466           0.009954          -1.175759\n",
      "1             b               -0.813656           0.043355          -0.928853\n",
      "2             e                0.514431          -0.018008           0.523833\n"
     ]
    },
    {
     "name": "stderr",
     "output_type": "stream",
     "text": [
      "C:\\Users\\gaston\\AppData\\Local\\Temp\\ipykernel_13548\\1164719828.py:9: FutureWarning: The default value of numeric_only in DataFrameGroupBy.mean is deprecated. In a future version, numeric_only will default to False. Either specify numeric_only or select only columns which should be valid for the function.\n",
      "  df_gc_avg = df_gc.groupby('type_instance').mean().reset_index()\n"
     ]
    }
   ],
   "source": [
    "# gap diferencias\n",
    "df_gc = df.loc[:, ('type_instance','instance','ov_mincost','ov_bestfit','ov_mt')]\n",
    "\n",
    "# relativo a mincost, bestfit mejora si es positivo, empeora si es negativo\n",
    "df_gc['ov_mincost_vs_bestfit%'] = (df_gc['ov_mincost'] - df_gc['ov_bestfit']) / df_gc['ov_mincost']\n",
    "df_gc['ov_mincost_vs_mt%'] = (df_gc['ov_mincost'] - df_gc['ov_mt']) / df_gc['ov_mincost']\n",
    "df_gc['ov_mt_vs_bestfit%'] = (df_gc['ov_mt'] - df_gc['ov_bestfit']) / df_gc['ov_mt']\n",
    "\n",
    "df_gc_avg = df_gc.groupby('type_instance').mean().reset_index()\n",
    "\n",
    "# Tabla comparitiva cambios porcentuales entre Greedy y Batching\n",
    "columns = []\n",
    "comparative_table = df_gc_avg.loc[:,('type_instance','ov_mincost_vs_bestfit%','ov_mincost_vs_mt%','ov_mt_vs_bestfit%')]\n",
    "comparative_table[columns[1:]] = (comparative_table[columns[1:]] * 100).round(2)\n",
    "print(comparative_table)\n",
    "\n",
    "table_c = comparative_table.to_markdown(index=False)\n",
    "with open('comparitiva_constructivas.md', 'w') as file:\n",
    "    file.write(table_c)"
   ]
  },
  {
   "cell_type": "code",
   "execution_count": 37,
   "metadata": {},
   "outputs": [
    {
     "name": "stderr",
     "output_type": "stream",
     "text": [
      "C:\\Users\\gaston\\AppData\\Local\\Temp\\ipykernel_13548\\3149395844.py:9: FutureWarning: The default value of numeric_only in DataFrameGroupBy.mean is deprecated. In a future version, numeric_only will default to False. Either specify numeric_only or select only columns which should be valid for the function.\n",
      "  df_aux_avg = df_aux.groupby('type_instance').mean().reset_index()\n"
     ]
    }
   ],
   "source": [
    "# swap\n",
    "df_aux = df.loc[:,('type_instance','instance','ov_mincost','ov_mincost_swap','ov_mincost_relocate','ov_bestfit','ov_bestfit_swap','ov_bestfit_relocate','ov_mt','ov_mt_swap','ov_mt_relocate')]\n",
    "\n",
    "# relativo a mincost, swap mejora si es positivo, empeora si es negativo\n",
    "df_aux['mincost_vs_swap%'] = (df_aux['ov_mincost'] - df_aux['ov_mincost_swap']) / df_aux['ov_mincost']\n",
    "df_aux['bestfit_vs_swap%'] = (df_aux['ov_bestfit'] - df_aux['ov_bestfit_swap']) / df_aux['ov_bestfit']\n",
    "df_aux['mt_vs_swap%'] = (df_aux['ov_mt'] - df_aux['ov_mt_swap']) / df_aux['ov_mt']\n",
    "\n",
    "df_aux_avg = df_aux.groupby('type_instance').mean().reset_index()\n",
    "\n",
    "columns = []\n",
    "comparative_table = df_aux_avg.loc[:,('type_instance','mincost_vs_swap%','bestfit_vs_swap%','mt_vs_swap%')]\n",
    "comparative_table[columns[1:]] = (comparative_table[columns[1:]] * 100).round(2)\n",
    "\n",
    "table_b = comparative_table.to_markdown(index=False)\n",
    "with open('swap.md', 'w') as file:\n",
    "    file.write(table_b)"
   ]
  },
  {
   "cell_type": "code",
   "execution_count": 38,
   "metadata": {},
   "outputs": [
    {
     "name": "stderr",
     "output_type": "stream",
     "text": [
      "C:\\Users\\gaston\\AppData\\Local\\Temp\\ipykernel_13548\\2157052633.py:9: FutureWarning: The default value of numeric_only in DataFrameGroupBy.mean is deprecated. In a future version, numeric_only will default to False. Either specify numeric_only or select only columns which should be valid for the function.\n",
      "  df_aux_avg = df_aux.groupby('type_instance').mean().reset_index()\n"
     ]
    }
   ],
   "source": [
    "# relocate\n",
    "df_aux = df.loc[:,('type_instance','instance','ov_mincost','ov_mincost_swap','ov_mincost_relocate','ov_bestfit','ov_bestfit_swap','ov_bestfit_relocate','ov_mt','ov_mt_swap','ov_mt_relocate')]\n",
    "\n",
    "# relativo a mincost, relocate mejora si es positivo, empeora si es negativo\n",
    "df_aux['mincost_vs_relocate%'] = (df_aux['ov_mincost'] - df_aux['ov_mincost_relocate']) / df_aux['ov_mincost']\n",
    "df_aux['bestfit_vs_relocate%'] = (df_aux['ov_bestfit'] - df_aux['ov_bestfit_relocate']) / df_aux['ov_bestfit']\n",
    "df_aux['mt_vs_relocate%'] = (df_aux['ov_mt'] - df_aux['ov_mt_relocate']) / df_aux['ov_mt']\n",
    "\n",
    "df_aux_avg = df_aux.groupby('type_instance').mean().reset_index()\n",
    "\n",
    "columns = []\n",
    "comparative_table = df_aux_avg.loc[:,('type_instance','mincost_vs_relocate%','bestfit_vs_relocate%','mt_vs_relocate%')]\n",
    "comparative_table[columns[1:]] = (comparative_table[columns[1:]] * 100).round(2)\n",
    "\n",
    "table_b = comparative_table.to_markdown(index=False)\n",
    "with open('relocate.md', 'w') as file:\n",
    "    file.write(table_b)"
   ]
  },
  {
   "cell_type": "code",
   "execution_count": 39,
   "metadata": {},
   "outputs": [
    {
     "name": "stderr",
     "output_type": "stream",
     "text": [
      "C:\\Users\\gaston\\AppData\\Local\\Temp\\ipykernel_13548\\911025058.py:9: FutureWarning: The default value of numeric_only in DataFrameGroupBy.mean is deprecated. In a future version, numeric_only will default to False. Either specify numeric_only or select only columns which should be valid for the function.\n",
      "  df_aux_avg = df_aux.groupby('type_instance').mean().reset_index()\n"
     ]
    }
   ],
   "source": [
    "# VND_1 : (relocate,swap)\n",
    "df_aux = df.loc[:,('type_instance','instance','ov_mincost','ov_mincost_relocate_swap','ov_bestfit','ov_bestfit_relocate_swap','ov_mt','ov_mt_relocate_swap')]\n",
    "\n",
    "# relativo a mincost, VND2 mejora si es positivo, empeora si es negativo\n",
    "df_aux['mincost_vs_VND1%'] = (df_aux['ov_mincost'] - df_aux['ov_mincost_relocate_swap']) / df_aux['ov_mincost']\n",
    "df_aux['bestfit_vs_VND1%'] = (df_aux['ov_bestfit'] - df_aux['ov_bestfit_relocate_swap']) / df_aux['ov_bestfit']\n",
    "df_aux['mt_vs_VND1%'] = (df_aux['ov_mt'] - df_aux['ov_mt_relocate_swap']) / df_aux['ov_mt']\n",
    "\n",
    "df_aux_avg = df_aux.groupby('type_instance').mean().reset_index()\n",
    "\n",
    "columns = []\n",
    "comparative_table = df_aux_avg.loc[:,('type_instance','mincost_vs_VND1%','bestfit_vs_VND1%','mt_vs_VND1%')]\n",
    "comparative_table[columns[1:]] = (comparative_table[columns[1:]] * 100).round(2)\n",
    "\n",
    "table_b = comparative_table.to_markdown(index=False)\n",
    "with open('greedy_vs_VND1.md', 'w') as file:\n",
    "    file.write(table_b)"
   ]
  },
  {
   "cell_type": "code",
   "execution_count": 40,
   "metadata": {},
   "outputs": [
    {
     "name": "stderr",
     "output_type": "stream",
     "text": [
      "C:\\Users\\gaston\\AppData\\Local\\Temp\\ipykernel_13548\\2606168852.py:9: FutureWarning: The default value of numeric_only in DataFrameGroupBy.mean is deprecated. In a future version, numeric_only will default to False. Either specify numeric_only or select only columns which should be valid for the function.\n",
      "  df_aux_avg = df_aux.groupby('type_instance').mean().reset_index()\n"
     ]
    }
   ],
   "source": [
    "# VND_2 : (swap, relocate)\n",
    "df_aux = df.loc[:,('type_instance','instance','ov_mincost','ov_mincost_swap_relocate','ov_bestfit','ov_bestfit_swap_relocate','ov_mt','ov_mt_swap_relocate')]\n",
    "\n",
    "# relativo a mincost, VND2 mejora si es positivo, empeora si es negativo\n",
    "df_aux['mincost_vs_VND2%'] = (df_aux['ov_mincost'] - df_aux['ov_mincost_swap_relocate']) / df_aux['ov_mincost']\n",
    "df_aux['bestfit_vs_VND2%'] = (df_aux['ov_bestfit'] - df_aux['ov_bestfit_swap_relocate']) / df_aux['ov_bestfit']\n",
    "df_aux['mt_vs_VND2%'] = (df_aux['ov_mt'] - df_aux['ov_mt_swap_relocate']) / df_aux['ov_mt']\n",
    "\n",
    "df_aux_avg = df_aux.groupby('type_instance').mean().reset_index()\n",
    "\n",
    "columns = []\n",
    "comparative_table = df_aux_avg.loc[:,('type_instance','mincost_vs_VND2%','bestfit_vs_VND2%','mt_vs_VND2%')]\n",
    "comparative_table[columns[1:]] = (comparative_table[columns[1:]] * 100).round(2)\n",
    "\n",
    "table_b = comparative_table.to_markdown(index=False)\n",
    "with open('greedy_vs_VND2.md', 'w') as file:\n",
    "    file.write(table_b)"
   ]
  },
  {
   "cell_type": "code",
   "execution_count": 41,
   "metadata": {},
   "outputs": [
    {
     "name": "stderr",
     "output_type": "stream",
     "text": [
      "C:\\Users\\gaston\\AppData\\Local\\Temp\\ipykernel_13548\\3394862134.py:9: FutureWarning: The default value of numeric_only in DataFrameGroupBy.mean is deprecated. In a future version, numeric_only will default to False. Either specify numeric_only or select only columns which should be valid for the function.\n",
      "  df_aux_avg = df_aux.groupby('type_instance').mean().reset_index()\n"
     ]
    }
   ],
   "source": [
    "# swap vs VND1\n",
    "df_aux = df.loc[:,('type_instance','instance','ov_mincost_swap','ov_mincost_relocate_swap','ov_bestfit_swap','ov_bestfit_relocate_swap','ov_mt_swap','ov_mt_relocate_swap')]\n",
    "\n",
    "# relativo a mincost, VND2 mejora si es positivo, empeora si es negativo\n",
    "df_aux['mincost_swap_vs_VND1%'] = (df_aux['ov_mincost_swap'] - df_aux['ov_mincost_relocate_swap']) / df_aux['ov_mincost_swap']\n",
    "df_aux['bestfit_swap_vs_VND1%'] = (df_aux['ov_bestfit_swap'] - df_aux['ov_bestfit_relocate_swap']) / df_aux['ov_bestfit_swap']\n",
    "df_aux['mt_swap__vsVND1%'] = (df_aux['ov_mt_swap'] - df_aux['ov_mt_relocate_swap']) / df_aux['ov_mt_swap']\n",
    "\n",
    "df_aux_avg = df_aux.groupby('type_instance').mean().reset_index()\n",
    "\n",
    "columns = []\n",
    "comparative_table = df_aux_avg.loc[:,('type_instance','mincost_swap_vs_VND1%','bestfit_swap_vs_VND1%','mt_swap__vsVND1%')]\n",
    "comparative_table[columns[1:]] = (comparative_table[columns[1:]] * 100).round(2)\n",
    "\n",
    "table_b = comparative_table.to_markdown(index=False)\n",
    "with open('swap_ls_vs_VND1.md', 'w') as file:\n",
    "    file.write(table_b)"
   ]
  },
  {
   "cell_type": "code",
   "execution_count": 42,
   "metadata": {},
   "outputs": [
    {
     "name": "stderr",
     "output_type": "stream",
     "text": [
      "C:\\Users\\gaston\\AppData\\Local\\Temp\\ipykernel_13548\\2611204709.py:9: FutureWarning: The default value of numeric_only in DataFrameGroupBy.mean is deprecated. In a future version, numeric_only will default to False. Either specify numeric_only or select only columns which should be valid for the function.\n",
      "  df_aux_avg = df_aux.groupby('type_instance').mean().reset_index()\n"
     ]
    }
   ],
   "source": [
    "# swap vs VND2\n",
    "df_aux = df.loc[:,('type_instance','instance','ov_mincost_swap','ov_mincost_swap_relocate','ov_bestfit_swap','ov_bestfit_swap_relocate','ov_mt_swap','ov_mt_swap_relocate')]\n",
    "\n",
    "# relativo a mincost, VND2 mejora si es positivo, empeora si es negativo\n",
    "df_aux['mincost_swap_vs_VND2%'] = (df_aux['ov_mincost_swap'] - df_aux['ov_mincost_swap_relocate']) / df_aux['ov_mincost_swap']\n",
    "df_aux['bestfit_swap_vs_VND2%'] = (df_aux['ov_bestfit_swap'] - df_aux['ov_bestfit_swap_relocate']) / df_aux['ov_bestfit_swap']\n",
    "df_aux['mt_swap__vsVND2%'] = (df_aux['ov_mt_swap'] - df_aux['ov_mt_swap_relocate']) / df_aux['ov_mt_swap']\n",
    "\n",
    "df_aux_avg = df_aux.groupby('type_instance').mean().reset_index()\n",
    "\n",
    "columns = []\n",
    "comparative_table = df_aux_avg.loc[:,('type_instance','mincost_swap_vs_VND2%','bestfit_swap_vs_VND2%','mt_swap__vsVND2%')]\n",
    "comparative_table[columns[1:]] = (comparative_table[columns[1:]] * 100).round(2)\n",
    "\n",
    "table_b = comparative_table.to_markdown(index=False)\n",
    "with open('swap_ls_vs_VND2.md', 'w') as file:\n",
    "    file.write(table_b)"
   ]
  },
  {
   "cell_type": "code",
   "execution_count": 43,
   "metadata": {},
   "outputs": [],
   "source": [
    "# tiempos mincost para n = 1600\n",
    "df_aux = df.loc[:,('m','n','st_mincost','st_mincost_swap','st_mincost_relocate','st_mincost_relocate_swap','st_mincost_swap_relocate')]\n",
    "columns = ['st_mincost','st_mincost_swap','st_mincost_relocate','st_mincost_relocate_swap','st_mincost_swap_relocate']\n",
    "df_aux = df_aux.loc[df_aux['n'] == 1600]\n",
    "\n",
    "df_aux.drop('n', axis=1, inplace=True)\n",
    "new_columns = [col + \" (s)\" for col in columns]\n",
    "df_aux.columns = ['n'] + new_columns\n",
    "\n",
    "table_b = df_aux.to_markdown(index=False)\n",
    "with open('time_mincost.md', 'w') as file:\n",
    "    file.write(table_b)"
   ]
  },
  {
   "cell_type": "code",
   "execution_count": 44,
   "metadata": {},
   "outputs": [],
   "source": [
    "# tiempos bestfit para n = 1600\n",
    "df_aux = df.loc[:,('m','n','st_bestfit','st_bestfit_swap','st_bestfit_relocate','st_bestfit_relocate_swap','st_bestfit_swap_relocate')]\n",
    "columns = ['st_bestfit','st_bestfit_swap','st_bestfit_relocate','st_bestfit_relocate_swap','st_bestfit_swap_relocate']\n",
    "df_aux = df_aux.loc[df_aux['n'] == 1600]\n",
    "\n",
    "df_aux.drop('n', axis=1, inplace=True)\n",
    "new_columns = [col + \" (s)\" for col in columns]\n",
    "df_aux.columns = ['n'] + new_columns\n",
    "\n",
    "table_b = df_aux.to_markdown(index=False)\n",
    "with open('time_bestfit.md', 'w') as file:\n",
    "    file.write(table_b)"
   ]
  },
  {
   "cell_type": "code",
   "execution_count": 45,
   "metadata": {},
   "outputs": [],
   "source": [
    "# tiempos mt para n = 1600\n",
    "df_aux = df.loc[:,('m','n','st_mt','st_mt_swap','st_mt_relocate','st_mt_relocate_swap','st_mt_swap_relocate')]\n",
    "columns = ['st_mt','st_mt_swap','st_mt_relocate','st_mt_relocate_swap','st_mt_swap_relocate']\n",
    "df_aux = df_aux.loc[df_aux['n'] == 1600]\n",
    "\n",
    "df_aux.drop('n', axis=1, inplace=True)\n",
    "new_columns = [col + \" (s)\" for col in columns]\n",
    "df_aux.columns = ['n'] + new_columns\n",
    "\n",
    "table_b = df_aux.to_markdown(index=False)\n",
    "with open('time_mt.md', 'w') as file:\n",
    "    file.write(table_b)"
   ]
  }
 ],
 "metadata": {
  "kernelspec": {
   "display_name": "Python 3",
   "language": "python",
   "name": "python3"
  },
  "language_info": {
   "codemirror_mode": {
    "name": "ipython",
    "version": 3
   },
   "file_extension": ".py",
   "mimetype": "text/x-python",
   "name": "python",
   "nbconvert_exporter": "python",
   "pygments_lexer": "ipython3",
   "version": "3.10.9"
  },
  "orig_nbformat": 4
 },
 "nbformat": 4,
 "nbformat_minor": 2
}
